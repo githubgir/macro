{
 "cells": [
  {
   "cell_type": "code",
   "execution_count": 2,
   "id": "2ebec796-ea45-4462-ad8a-d17154618318",
   "metadata": {},
   "outputs": [],
   "source": [
    "from PyPDF2 import PdfFileReader"
   ]
  },
  {
   "cell_type": "code",
   "execution_count": null,
   "id": "c0f56729-74eb-47f0-93d9-1feeb9b3ec32",
   "metadata": {},
   "outputs": [],
   "source": []
  },
  {
   "cell_type": "code",
   "execution_count": null,
   "id": "a6b15dd1-1951-4943-90e5-a7fcb45db6eb",
   "metadata": {},
   "outputs": [],
   "source": []
  },
  {
   "cell_type": "code",
   "execution_count": null,
   "id": "1f76865e-0ea8-4ec1-b791-5f7fb4f04819",
   "metadata": {},
   "outputs": [
    {
     "data": {
      "text/plain": [
       "{}"
      ]
     },
     "execution_count": 44,
     "metadata": {},
     "output_type": "execute_result"
    }
   ],
   "source": []
  },
  {
   "cell_type": "code",
   "execution_count": null,
   "id": "e8eb177f-445a-4cdc-9c36-d417a747d29c",
   "metadata": {},
   "outputs": [],
   "source": [
    "import sys\n",
    "import locale\n",
    "import ghostscript\n",
    "import pyperclip"
   ]
  },
  {
   "cell_type": "code",
   "execution_count": 142,
   "id": "b41efc30-7185-41ee-ad69-857e1a4e5579",
   "metadata": {},
   "outputs": [
    {
     "data": {
      "text/plain": [
       "'C:\\\\Program Files\\\\gs\\\\gs9.56.1\\\\bin\\\\gswin64c -dFirstPage=1 -dLastPage=2 -dQUIET -dBATCH -dNOPAUSE -dQueryUser#3 -sDEVICE=pdfwrite -sOutputFile=\"C:\\\\Users\\\\Andreas\\\\Desktop\\\\Research\\\\Wolfe12\\\\x20220111_YL_PC_CHEERS2022.pdf\" \"C:\\\\Users\\\\Andreas\\\\Desktop\\\\Research\\\\Wolfe\\\\x20220111_YL_PC_CHEERS2022.pdf\"'"
      ]
     },
     "execution_count": 142,
     "metadata": {},
     "output_type": "execute_result"
    }
   ],
   "source": [
    "cmd "
   ]
  },
  {
   "cell_type": "code",
   "execution_count": 155,
   "id": "ee2207a9-e913-43fb-a835-1753a7d5cd8e",
   "metadata": {
    "tags": []
   },
   "outputs": [],
   "source": [
    "# C:\\\\Program Files\\\\gs\\\\gs9.56.1\\\\bin\\\\gswin64c -dFirstPage=1 -dLastPage=2 -dQUIET -dBATCH -dNOPAUSE -dQueryUser#3 -sDEVICE=pdfwrite -sOutputFile=\"C:\\\\Users\\\\Andreas\\\\Desktop\\\\Research\\\\Wolfe12\\\\x20220111_YL_PC_CHEERS2022.pdf\" \"C:\\\\Users\\\\Andreas\\\\Desktop\\\\Research\\\\Wolfe\\\\x20220111_YL_PC_CHEERS2022.pdf\"\n",
    "import os\n",
    "directory = 'C:\\\\Users\\\\Andreas\\\\Desktop\\\\Research\\\\Wolfe\\\\'\n",
    "outdirectory = 'C:\\\\Users\\\\Andreas\\\\Desktop\\\\Research\\\\Wolfe12\\\\'\n",
    "printer = \"NPI2F3736 (HP Color LaserJet MFP M281fdw)\"\n",
    "\n",
    "for filename in os.listdir(directory):\n",
    "    cmd = [\n",
    "        \"C:\\\\Program Files\\\\gs\\\\gs9.56.1\\\\bin\\\\gswin64c\", \n",
    "        \"-dFirstPage=1 -dLastPage=1\",\n",
    "        \"-dQUIET -dBATCH -dNOPAUSE\", \n",
    "        \"-dQueryUser#3\", \n",
    "        \"-sDEVICE=pdfwrite\",\n",
    "        f'-sOutputFile=\"{outdirectory + filename}\"',\n",
    "        f'\"{directory + filename}\"'\n",
    "    ]\n",
    "    cmd = \" \".join(cmd)\n",
    "    \n",
    "    #proc = subprocess.Popen(cmd, stdout=subprocess.PIPE, stderr=subprocess.PIPE)"
   ]
  },
  {
   "cell_type": "code",
   "execution_count": 156,
   "id": "0ec62b61-cdec-4d39-93e4-53fe15b58b14",
   "metadata": {},
   "outputs": [
    {
     "name": "stdout",
     "output_type": "stream",
     "text": [
      "C:\\Program Files\\gs\\gs9.56.1\\bin\\gswin64c -dQUIET -dBATCH -dNOPAUSE -sDEVICE=pdfwrite -sOutputFile=\"C:\\Users\\Andreas\\Desktop\\Research\\Wolfe12\\all.pdf\" \"C:\\Users\\Andreas\\Desktop\\Research\\Wolfe12\\Deep Learning Statistical Arbitrage Strategies.pdf\" \"C:\\Users\\Andreas\\Desktop\\Research\\Wolfe12\\ESG Insider (November 2021).pdf\" \"C:\\Users\\Andreas\\Desktop\\Research\\Wolfe12\\Forward-Looking Interest Rates Exposure.pdf\" \"C:\\Users\\Andreas\\Desktop\\Research\\Wolfe12\\Luo's QES - Current Affairs- Quadruple Fundamental Risks and One Solution.pdf\" \"C:\\Users\\Andreas\\Desktop\\Research\\Wolfe12\\Luo's QES - Current Affairs- The Trio-Dynamics.pdf\" \"C:\\Users\\Andreas\\Desktop\\Research\\Wolfe12\\Luo's QES - Multi-Dimension Alpha- NLP Boosted Momentum.pdf\" \"C:\\Users\\Andreas\\Desktop\\Research\\Wolfe12\\Luo's QES - Risk Models Disentangle Macro Risks from Conventional Style Factors.pdf\" \"C:\\Users\\Andreas\\Desktop\\Research\\Wolfe12\\Proceedings from the 4th Annual NLP and Machine Learning Conference.pdf\" \"C:\\Users\\Andreas\\Desktop\\Research\\Wolfe12\\x20170216_YL_MDA_QR.pdf\" \"C:\\Users\\Andreas\\Desktop\\Research\\Wolfe12\\x20170224_YL_MDA_QR.pdf\" \"C:\\Users\\Andreas\\Desktop\\Research\\Wolfe12\\x20170509_YL_MDA_QR.pdf\" \"C:\\Users\\Andreas\\Desktop\\Research\\Wolfe12\\x20170906_YL_CurrentAffairs.pdf\" \"C:\\Users\\Andreas\\Desktop\\Research\\Wolfe12\\x20170906_YL_FromNowcastingToForecasting.pdf\" \"C:\\Users\\Andreas\\Desktop\\Research\\Wolfe12\\x20170911_YL_MDA_MA.PDF\" \"C:\\Users\\Andreas\\Desktop\\Research\\Wolfe12\\x20180508_YL_MDA_ChinaSSPI.pdf\" \"C:\\Users\\Andreas\\Desktop\\Research\\Wolfe12\\x20200107_YL_CA_JanEffect.pdf\" \"C:\\Users\\Andreas\\Desktop\\Research\\Wolfe12\\x20210525_YL_JQES_LondonConf2021.pdf\" \"C:\\Users\\Andreas\\Desktop\\Research\\Wolfe12\\x20210601_YL_MDA_ActiveManagement2021Edition.pdf\" \"C:\\Users\\Andreas\\Desktop\\Research\\Wolfe12\\x20210615_YL_MDA_SHIELD2.pdf\" \"C:\\Users\\Andreas\\Desktop\\Research\\Wolfe12\\x20210622_YL_PC_SalesSeasonality.pdf\" \"C:\\Users\\Andreas\\Desktop\\Research\\Wolfe12\\x20210708_YL_CA_Bitcoin.pdf\" \"C:\\Users\\Andreas\\Desktop\\Research\\Wolfe12\\x20210727_YL_MDA_PairsTrading.pdf\" \"C:\\Users\\Andreas\\Desktop\\Research\\Wolfe12\\x20210907_YL_CA_InflationInterestRate.pdf\" \"C:\\Users\\Andreas\\Desktop\\Research\\Wolfe12\\x20210914_YL_MDA_S3.pdf\" \"C:\\Users\\Andreas\\Desktop\\Research\\Wolfe12\\x20210928_YL_JQES_ConsumerConfidence.pdf\" \"C:\\Users\\Andreas\\Desktop\\Research\\Wolfe12\\x20211005_YL_CA_FactorCrowding.pdf\" \"C:\\Users\\Andreas\\Desktop\\Research\\Wolfe12\\x20211103_YL_CA_OilPriceExposure.pdf\" \"C:\\Users\\Andreas\\Desktop\\Research\\Wolfe12\\x20211123_YL_PC_RISE.pdf\" \"C:\\Users\\Andreas\\Desktop\\Research\\Wolfe12\\x20211207_YL_PC_FactorAwareness5G.pdf\" \"C:\\Users\\Andreas\\Desktop\\Research\\Wolfe12\\x20211209_YL_CA_CryptoFactorModels (004)(20211208_205958).pdf\" \"C:\\Users\\Andreas\\Desktop\\Research\\Wolfe12\\x20211214_YL_JQES_CryptoReview.pdf\" \"C:\\Users\\Andreas\\Desktop\\Research\\Wolfe12\\x20220111_YL_PC_CHEERS2022.pdf\"\n"
     ]
    }
   ],
   "source": [
    "# C:\\\\Program Files\\\\gs\\\\gs9.56.1\\\\bin\\\\gswin64c -dQUIET -dBATCH -dNOPAUSE -sDEVICE=pdfwrite -sOutputFile=output.pdf input1.pdf input2.pdf\n",
    "cmd = [\n",
    "    \"C:\\\\Program Files\\\\gs\\\\gs9.56.1\\\\bin\\\\gswin64c\", \n",
    "    \"-dQUIET -dBATCH -dNOPAUSE\", \n",
    "    \"-sDEVICE=pdfwrite\",\n",
    "    f'-sOutputFile=\"{outdirectory + \"all.pdf\"}\"',\n",
    "] + [\n",
    "    f'\"{outdirectory + filename}\"' for filename in os.listdir(directory)\n",
    "]\n",
    "\n",
    "cmd = \" \".join(cmd)\n",
    "\n",
    "pyperclip.copy(cmd)\n",
    "\n",
    "print(cmd)\n",
    "\n",
    "#proc = subprocess.Popen(cmd, stdout=subprocess.PIPE, stderr=subprocess.PIPE)"
   ]
  }
 ],
 "metadata": {
  "kernelspec": {
   "display_name": "q2022",
   "language": "python",
   "name": "q2022"
  },
  "language_info": {
   "codemirror_mode": {
    "name": "ipython",
    "version": 3
   },
   "file_extension": ".py",
   "mimetype": "text/x-python",
   "name": "python",
   "nbconvert_exporter": "python",
   "pygments_lexer": "ipython3",
   "version": "3.9.11"
  }
 },
 "nbformat": 4,
 "nbformat_minor": 5
}
